{
  "nbformat": 4,
  "nbformat_minor": 0,
  "metadata": {
    "colab": {
      "name": "churn.ipynb",
      "version": "0.3.2",
      "provenance": [],
      "collapsed_sections": [
        "A5YojFHxKR5d",
        "XuoGxZp7NfBa"
      ],
      "include_colab_link": true
    },
    "kernelspec": {
      "name": "python3",
      "display_name": "Python 3"
    }
  },
  "cells": [
    {
      "cell_type": "markdown",
      "metadata": {
        "id": "view-in-github",
        "colab_type": "text"
      },
      "source": [
        "<a href=\"https://colab.research.google.com/github/EudoraHan/User-Churn-Prediction/blob/develop/churn.ipynb\" target=\"_parent\"><img src=\"https://colab.research.google.com/assets/colab-badge.svg\" alt=\"Open In Colab\"/></a>"
      ]
    },
    {
      "cell_type": "markdown",
      "metadata": {
        "id": "lLYuYxjyK75l",
        "colab_type": "text"
      },
      "source": [
        "# User Churn Prediction\n",
        "\n",
        "Yun Han \n",
        "\n",
        "7/24/2019"
      ]
    },
    {
      "cell_type": "markdown",
      "metadata": {
        "id": "otWiO7DsLD6-",
        "colab_type": "text"
      },
      "source": [
        "## Contents"
      ]
    },
    {
      "cell_type": "markdown",
      "metadata": {
        "id": "Fs-nCx7sLX0G",
        "colab_type": "text"
      },
      "source": [
        "# Part 0: Upload dataset from local"
      ]
    },
    {
      "cell_type": "code",
      "metadata": {
        "id": "ZoSIlfsVK68J",
        "colab_type": "code",
        "outputId": "daa09651-c236-469f-b564-dda6062412c9",
        "colab": {
          "resources": {
            "http://localhost:8080/nbextensions/google.colab/files.js": {
              "data": "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",
              "ok": true,
              "headers": [
                [
                  "content-type",
                  "application/javascript"
                ]
              ],
              "status": 200,
              "status_text": ""
            }
          },
          "base_uri": "https://localhost:8080/",
          "height": 71
        }
      },
      "source": [
        "from google.colab import files\n",
        "uploaded = files.upload()"
      ],
      "execution_count": 0,
      "outputs": [
        {
          "output_type": "display_data",
          "data": {
            "text/html": [
              "\n",
              "     <input type=\"file\" id=\"files-0111c24a-ceb7-4986-bd8d-c6073a867aae\" name=\"files[]\" multiple disabled />\n",
              "     <output id=\"result-0111c24a-ceb7-4986-bd8d-c6073a867aae\">\n",
              "      Upload widget is only available when the cell has been executed in the\n",
              "      current browser session. Please rerun this cell to enable.\n",
              "      </output>\n",
              "      <script src=\"/nbextensions/google.colab/files.js\"></script> "
            ],
            "text/plain": [
              "<IPython.core.display.HTML object>"
            ]
          },
          "metadata": {
            "tags": []
          }
        },
        {
          "output_type": "stream",
          "text": [
            "Saving churn.all.csv to churn.all.csv\n"
          ],
          "name": "stdout"
        }
      ]
    },
    {
      "cell_type": "code",
      "metadata": {
        "id": "Aqkg9QZBLuID",
        "colab_type": "code",
        "outputId": "6ed4aa07-24bf-41a6-d5df-335fd7fd2215",
        "colab": {
          "base_uri": "https://localhost:8080/",
          "height": 224
        }
      },
      "source": [
        "import io\n",
        "import pandas as pd\n",
        "\n",
        "df = pd.read_csv(io.BytesIO(uploaded['churn.all.csv']))\n",
        "df.head()"
      ],
      "execution_count": 0,
      "outputs": [
        {
          "output_type": "execute_result",
          "data": {
            "text/html": [
              "<div>\n",
              "<style scoped>\n",
              "    .dataframe tbody tr th:only-of-type {\n",
              "        vertical-align: middle;\n",
              "    }\n",
              "\n",
              "    .dataframe tbody tr th {\n",
              "        vertical-align: top;\n",
              "    }\n",
              "\n",
              "    .dataframe thead th {\n",
              "        text-align: right;\n",
              "    }\n",
              "</style>\n",
              "<table border=\"1\" class=\"dataframe\">\n",
              "  <thead>\n",
              "    <tr style=\"text-align: right;\">\n",
              "      <th></th>\n",
              "      <th>state</th>\n",
              "      <th>account_length</th>\n",
              "      <th>area_code</th>\n",
              "      <th>phone_number</th>\n",
              "      <th>intl_plan</th>\n",
              "      <th>voice_mail_plan</th>\n",
              "      <th>number_vmail_messages</th>\n",
              "      <th>total_day_minutes</th>\n",
              "      <th>total_day_calls</th>\n",
              "      <th>total_day_charge</th>\n",
              "      <th>total_eve_minutes</th>\n",
              "      <th>total_eve_calls</th>\n",
              "      <th>total_eve_charge</th>\n",
              "      <th>total_night_minutes</th>\n",
              "      <th>total_night_calls</th>\n",
              "      <th>total_night_charge</th>\n",
              "      <th>total_intl_minutes</th>\n",
              "      <th>total_intl_calls</th>\n",
              "      <th>total_intl_charge</th>\n",
              "      <th>number_customer_service_calls</th>\n",
              "      <th>churned</th>\n",
              "    </tr>\n",
              "  </thead>\n",
              "  <tbody>\n",
              "    <tr>\n",
              "      <th>0</th>\n",
              "      <td>KS</td>\n",
              "      <td>128</td>\n",
              "      <td>415</td>\n",
              "      <td>382-4657</td>\n",
              "      <td>no</td>\n",
              "      <td>yes</td>\n",
              "      <td>25</td>\n",
              "      <td>265.1</td>\n",
              "      <td>110</td>\n",
              "      <td>45.07</td>\n",
              "      <td>197.4</td>\n",
              "      <td>99</td>\n",
              "      <td>16.78</td>\n",
              "      <td>244.7</td>\n",
              "      <td>91</td>\n",
              "      <td>11.01</td>\n",
              "      <td>10.0</td>\n",
              "      <td>3</td>\n",
              "      <td>2.70</td>\n",
              "      <td>1</td>\n",
              "      <td>False.</td>\n",
              "    </tr>\n",
              "    <tr>\n",
              "      <th>1</th>\n",
              "      <td>OH</td>\n",
              "      <td>107</td>\n",
              "      <td>415</td>\n",
              "      <td>371-7191</td>\n",
              "      <td>no</td>\n",
              "      <td>yes</td>\n",
              "      <td>26</td>\n",
              "      <td>161.6</td>\n",
              "      <td>123</td>\n",
              "      <td>27.47</td>\n",
              "      <td>195.5</td>\n",
              "      <td>103</td>\n",
              "      <td>16.62</td>\n",
              "      <td>254.4</td>\n",
              "      <td>103</td>\n",
              "      <td>11.45</td>\n",
              "      <td>13.7</td>\n",
              "      <td>3</td>\n",
              "      <td>3.70</td>\n",
              "      <td>1</td>\n",
              "      <td>False.</td>\n",
              "    </tr>\n",
              "    <tr>\n",
              "      <th>2</th>\n",
              "      <td>NJ</td>\n",
              "      <td>137</td>\n",
              "      <td>415</td>\n",
              "      <td>358-1921</td>\n",
              "      <td>no</td>\n",
              "      <td>no</td>\n",
              "      <td>0</td>\n",
              "      <td>243.4</td>\n",
              "      <td>114</td>\n",
              "      <td>41.38</td>\n",
              "      <td>121.2</td>\n",
              "      <td>110</td>\n",
              "      <td>10.30</td>\n",
              "      <td>162.6</td>\n",
              "      <td>104</td>\n",
              "      <td>7.32</td>\n",
              "      <td>12.2</td>\n",
              "      <td>5</td>\n",
              "      <td>3.29</td>\n",
              "      <td>0</td>\n",
              "      <td>False.</td>\n",
              "    </tr>\n",
              "    <tr>\n",
              "      <th>3</th>\n",
              "      <td>OH</td>\n",
              "      <td>84</td>\n",
              "      <td>408</td>\n",
              "      <td>375-9999</td>\n",
              "      <td>yes</td>\n",
              "      <td>no</td>\n",
              "      <td>0</td>\n",
              "      <td>299.4</td>\n",
              "      <td>71</td>\n",
              "      <td>50.90</td>\n",
              "      <td>61.9</td>\n",
              "      <td>88</td>\n",
              "      <td>5.26</td>\n",
              "      <td>196.9</td>\n",
              "      <td>89</td>\n",
              "      <td>8.86</td>\n",
              "      <td>6.6</td>\n",
              "      <td>7</td>\n",
              "      <td>1.78</td>\n",
              "      <td>2</td>\n",
              "      <td>False.</td>\n",
              "    </tr>\n",
              "    <tr>\n",
              "      <th>4</th>\n",
              "      <td>OK</td>\n",
              "      <td>75</td>\n",
              "      <td>415</td>\n",
              "      <td>330-6626</td>\n",
              "      <td>yes</td>\n",
              "      <td>no</td>\n",
              "      <td>0</td>\n",
              "      <td>166.7</td>\n",
              "      <td>113</td>\n",
              "      <td>28.34</td>\n",
              "      <td>148.3</td>\n",
              "      <td>122</td>\n",
              "      <td>12.61</td>\n",
              "      <td>186.9</td>\n",
              "      <td>121</td>\n",
              "      <td>8.41</td>\n",
              "      <td>10.1</td>\n",
              "      <td>3</td>\n",
              "      <td>2.73</td>\n",
              "      <td>3</td>\n",
              "      <td>False.</td>\n",
              "    </tr>\n",
              "  </tbody>\n",
              "</table>\n",
              "</div>"
            ],
            "text/plain": [
              "  state  account_length  ...  number_customer_service_calls  churned\n",
              "0    KS             128  ...                              1   False.\n",
              "1    OH             107  ...                              1   False.\n",
              "2    NJ             137  ...                              0   False.\n",
              "3    OH              84  ...                              2   False.\n",
              "4    OK              75  ...                              3   False.\n",
              "\n",
              "[5 rows x 21 columns]"
            ]
          },
          "metadata": {
            "tags": []
          },
          "execution_count": 4
        }
      ]
    },
    {
      "cell_type": "markdown",
      "metadata": {
        "id": "bzgWyUt5NQLY",
        "colab_type": "text"
      },
      "source": [
        "# Part 1 : Data Exploration"
      ]
    },
    {
      "cell_type": "markdown",
      "metadata": {
        "id": "s3lv1BMoNdzx",
        "colab_type": "text"
      },
      "source": [
        "## Part 1.1 : Dataset description"
      ]
    },
    {
      "cell_type": "code",
      "metadata": {
        "id": "DbV6vfAnMwYN",
        "colab_type": "code",
        "outputId": "6786ebc9-187f-479b-dc1c-cd49a2402933",
        "colab": {
          "base_uri": "https://localhost:8080/",
          "height": 51
        }
      },
      "source": [
        "print(\"Number of rows:\" + str(df.shape[0]))\n",
        "print(\"Number of columns:\" + str(df.shape[1]))"
      ],
      "execution_count": 0,
      "outputs": [
        {
          "output_type": "stream",
          "text": [
            "Number of rows:5000\n",
            "Number of columns:21\n"
          ],
          "name": "stdout"
        }
      ]
    },
    {
      "cell_type": "markdown",
      "metadata": {
        "id": "ZEhDAG0lQN3k",
        "colab_type": "text"
      },
      "source": [
        "## Part 1.2 : Data cleaning"
      ]
    },
    {
      "cell_type": "markdown",
      "metadata": {
        "id": "-eICscsvQv35",
        "colab_type": "text"
      },
      "source": [
        "The column \"voice_mail_plan\", \"intl_plan\" and \"churned\" have extra white space in every observation. We need to remove these whitespace."
      ]
    },
    {
      "cell_type": "code",
      "metadata": {
        "id": "iM5dFx8bMwdL",
        "colab_type": "code",
        "outputId": "d8391fff-875d-49db-c399-79ead1424fda",
        "colab": {
          "base_uri": "https://localhost:8080/",
          "height": 34
        }
      },
      "source": [
        "# check categorical feature\n",
        "df['voice_mail_plan'][0]"
      ],
      "execution_count": 0,
      "outputs": [
        {
          "output_type": "execute_result",
          "data": {
            "text/plain": [
              "' yes'"
            ]
          },
          "metadata": {
            "tags": []
          },
          "execution_count": 6
        }
      ]
    },
    {
      "cell_type": "code",
      "metadata": {
        "id": "ymBhgVWDMwgS",
        "colab_type": "code",
        "colab": {}
      },
      "source": [
        "# remove the heading and trailing whitespaces\n",
        "# strip() in-built function of Python is used to remove all the leading and trailing spaces from a string.\n",
        "df['voice_mail_plan'] = df['voice_mail_plan'].map(lambda x: x.strip())\n",
        "df['intl_plan'] = df['intl_plan'].map(lambda x: x.strip())\n",
        "df['churned'] = df['churned'].map(lambda x: x.strip()) "
      ],
      "execution_count": 0,
      "outputs": []
    },
    {
      "cell_type": "code",
      "metadata": {
        "id": "LpJOWjQEMwru",
        "colab_type": "code",
        "outputId": "41606380-3e49-45dc-abcb-d86ec1188620",
        "colab": {
          "base_uri": "https://localhost:8080/",
          "height": 34
        }
      },
      "source": [
        "# check categorical feature after manipulation\n",
        "df['voice_mail_plan'][0]"
      ],
      "execution_count": 0,
      "outputs": [
        {
          "output_type": "execute_result",
          "data": {
            "text/plain": [
              "'yes'"
            ]
          },
          "metadata": {
            "tags": []
          },
          "execution_count": 8
        }
      ]
    },
    {
      "cell_type": "markdown",
      "metadata": {
        "id": "sy5qZPdfXH0e",
        "colab_type": "text"
      },
      "source": [
        "## Part 1.3 : Understand the features"
      ]
    },
    {
      "cell_type": "code",
      "metadata": {
        "id": "W5LEEJXrprpC",
        "colab_type": "code",
        "outputId": "60991c31-aeba-41d1-f43e-781d923aaf2f",
        "colab": {
          "base_uri": "https://localhost:8080/",
          "height": 391
        }
      },
      "source": [
        "# check the missing value\n",
        "df.isnull().sum()"
      ],
      "execution_count": 0,
      "outputs": [
        {
          "output_type": "execute_result",
          "data": {
            "text/plain": [
              "state                            0\n",
              "account_length                   0\n",
              "area_code                        0\n",
              "phone_number                     0\n",
              "intl_plan                        0\n",
              "voice_mail_plan                  0\n",
              "number_vmail_messages            0\n",
              "total_day_minutes                0\n",
              "total_day_calls                  0\n",
              "total_day_charge                 0\n",
              "total_eve_minutes                0\n",
              "total_eve_calls                  0\n",
              "total_eve_charge                 0\n",
              "total_night_minutes              0\n",
              "total_night_calls                0\n",
              "total_night_charge               0\n",
              "total_intl_minutes               0\n",
              "total_intl_calls                 0\n",
              "total_intl_charge                0\n",
              "number_customer_service_calls    0\n",
              "churned                          0\n",
              "dtype: int64"
            ]
          },
          "metadata": {
            "tags": []
          },
          "execution_count": 9
        }
      ]
    },
    {
      "cell_type": "code",
      "metadata": {
        "id": "K369MuD9MwyT",
        "colab_type": "code",
        "outputId": "d6705b6b-4c96-4209-e162-ab11d39ef4b4",
        "colab": {
          "base_uri": "https://localhost:8080/",
          "height": 301
        }
      },
      "source": [
        "# check the feature distribution \n",
        "import matplotlib.pyplot as plt\n",
        "import seaborn as sns\n",
        "\n",
        "sns.distplot(df['total_intl_charge'])"
      ],
      "execution_count": 0,
      "outputs": [
        {
          "output_type": "execute_result",
          "data": {
            "text/plain": [
              "<matplotlib.axes._subplots.AxesSubplot at 0x7f05551b6c18>"
            ]
          },
          "metadata": {
            "tags": []
          },
          "execution_count": 10
        },
        {
          "output_type": "display_data",
          "data": {
            "image/png": "[encoded data removed]",
            "text/plain": [
              "<Figure size 432x288 with 1 Axes>"
            ]
          },
          "metadata": {
            "tags": []
          }
        }
      ]
    },
    {
      "cell_type": "code",
      "metadata": {
        "id": "dBs4fJx0Mw1E",
        "colab_type": "code",
        "outputId": "23ee2344-e1e8-4316-a380-e9785ec6ee82",
        "colab": {
          "base_uri": "https://localhost:8080/",
          "height": 503
        }
      },
      "source": [
        "# correlation between all the features\n",
        "corr = df[[\"account_length\", \"number_vmail_messages\", \"total_day_minutes\", \n",
        "           \"total_day_calls\", \"total_day_charge\", \"total_eve_minutes\", \n",
        "           \"total_eve_calls\", \"total_eve_charge\", \"total_night_minutes\", \n",
        "           \"total_night_calls\", \"total_night_charge\", \"total_intl_minutes\", \n",
        "           \"total_intl_calls\", \"total_intl_charge\"]].corr()\n",
        "\n",
        "# check the actual values of correlations\n",
        "corr"
      ],
      "execution_count": 0,
      "outputs": [
        {
          "output_type": "execute_result",
          "data": {
            "text/html": [
              "<div>\n",
              "<style scoped>\n",
              "    .dataframe tbody tr th:only-of-type {\n",
              "        vertical-align: middle;\n",
              "    }\n",
              "\n",
              "    .dataframe tbody tr th {\n",
              "        vertical-align: top;\n",
              "    }\n",
              "\n",
              "    .dataframe thead th {\n",
              "        text-align: right;\n",
              "    }\n",
              "</style>\n",
              "<table border=\"1\" class=\"dataframe\">\n",
              "  <thead>\n",
              "    <tr style=\"text-align: right;\">\n",
              "      <th></th>\n",
              "      <th>account_length</th>\n",
              "      <th>number_vmail_messages</th>\n",
              "      <th>total_day_minutes</th>\n",
              "      <th>total_day_calls</th>\n",
              "      <th>total_day_charge</th>\n",
              "      <th>total_eve_minutes</th>\n",
              "      <th>total_eve_calls</th>\n",
              "      <th>total_eve_charge</th>\n",
              "      <th>total_night_minutes</th>\n",
              "      <th>total_night_calls</th>\n",
              "      <th>total_night_charge</th>\n",
              "      <th>total_intl_minutes</th>\n",
              "      <th>total_intl_calls</th>\n",
              "      <th>total_intl_charge</th>\n",
              "    </tr>\n",
              "  </thead>\n",
              "  <tbody>\n",
              "    <tr>\n",
              "      <th>account_length</th>\n",
              "      <td>1.000000</td>\n",
              "      <td>-0.014575</td>\n",
              "      <td>-0.001017</td>\n",
              "      <td>0.028240</td>\n",
              "      <td>-0.001019</td>\n",
              "      <td>-0.009591</td>\n",
              "      <td>0.009143</td>\n",
              "      <td>-0.009587</td>\n",
              "      <td>0.000668</td>\n",
              "      <td>-0.007825</td>\n",
              "      <td>0.000656</td>\n",
              "      <td>0.001291</td>\n",
              "      <td>0.014277</td>\n",
              "      <td>0.001292</td>\n",
              "    </tr>\n",
              "    <tr>\n",
              "      <th>number_vmail_messages</th>\n",
              "      <td>-0.014575</td>\n",
              "      <td>1.000000</td>\n",
              "      <td>0.005381</td>\n",
              "      <td>0.000883</td>\n",
              "      <td>0.005377</td>\n",
              "      <td>0.019490</td>\n",
              "      <td>-0.003954</td>\n",
              "      <td>0.019496</td>\n",
              "      <td>0.005541</td>\n",
              "      <td>0.002676</td>\n",
              "      <td>0.005535</td>\n",
              "      <td>0.002463</td>\n",
              "      <td>0.000124</td>\n",
              "      <td>0.002505</td>\n",
              "    </tr>\n",
              "    <tr>\n",
              "      <th>total_day_minutes</th>\n",
              "      <td>-0.001017</td>\n",
              "      <td>0.005381</td>\n",
              "      <td>1.000000</td>\n",
              "      <td>0.001935</td>\n",
              "      <td>1.000000</td>\n",
              "      <td>-0.010750</td>\n",
              "      <td>0.008128</td>\n",
              "      <td>-0.010760</td>\n",
              "      <td>0.011799</td>\n",
              "      <td>0.004236</td>\n",
              "      <td>0.011783</td>\n",
              "      <td>-0.019486</td>\n",
              "      <td>-0.001303</td>\n",
              "      <td>-0.019415</td>\n",
              "    </tr>\n",
              "    <tr>\n",
              "      <th>total_day_calls</th>\n",
              "      <td>0.028240</td>\n",
              "      <td>0.000883</td>\n",
              "      <td>0.001935</td>\n",
              "      <td>1.000000</td>\n",
              "      <td>0.001936</td>\n",
              "      <td>-0.000699</td>\n",
              "      <td>0.003754</td>\n",
              "      <td>-0.000695</td>\n",
              "      <td>0.002804</td>\n",
              "      <td>-0.008308</td>\n",
              "      <td>0.002802</td>\n",
              "      <td>0.013097</td>\n",
              "      <td>0.010893</td>\n",
              "      <td>0.013161</td>\n",
              "    </tr>\n",
              "    <tr>\n",
              "      <th>total_day_charge</th>\n",
              "      <td>-0.001019</td>\n",
              "      <td>0.005377</td>\n",
              "      <td>1.000000</td>\n",
              "      <td>0.001936</td>\n",
              "      <td>1.000000</td>\n",
              "      <td>-0.010747</td>\n",
              "      <td>0.008129</td>\n",
              "      <td>-0.010757</td>\n",
              "      <td>0.011801</td>\n",
              "      <td>0.004235</td>\n",
              "      <td>0.011785</td>\n",
              "      <td>-0.019490</td>\n",
              "      <td>-0.001307</td>\n",
              "      <td>-0.019419</td>\n",
              "    </tr>\n",
              "    <tr>\n",
              "      <th>total_eve_minutes</th>\n",
              "      <td>-0.009591</td>\n",
              "      <td>0.019490</td>\n",
              "      <td>-0.010750</td>\n",
              "      <td>-0.000699</td>\n",
              "      <td>-0.010747</td>\n",
              "      <td>1.000000</td>\n",
              "      <td>0.002763</td>\n",
              "      <td>1.000000</td>\n",
              "      <td>-0.016639</td>\n",
              "      <td>0.013420</td>\n",
              "      <td>-0.016642</td>\n",
              "      <td>0.000137</td>\n",
              "      <td>0.008388</td>\n",
              "      <td>0.000159</td>\n",
              "    </tr>\n",
              "    <tr>\n",
              "      <th>total_eve_calls</th>\n",
              "      <td>0.009143</td>\n",
              "      <td>-0.003954</td>\n",
              "      <td>0.008128</td>\n",
              "      <td>0.003754</td>\n",
              "      <td>0.008129</td>\n",
              "      <td>0.002763</td>\n",
              "      <td>1.000000</td>\n",
              "      <td>0.002778</td>\n",
              "      <td>0.001781</td>\n",
              "      <td>-0.013682</td>\n",
              "      <td>0.001799</td>\n",
              "      <td>-0.007458</td>\n",
              "      <td>0.005574</td>\n",
              "      <td>-0.007507</td>\n",
              "    </tr>\n",
              "    <tr>\n",
              "      <th>total_eve_charge</th>\n",
              "      <td>-0.009587</td>\n",
              "      <td>0.019496</td>\n",
              "      <td>-0.010760</td>\n",
              "      <td>-0.000695</td>\n",
              "      <td>-0.010757</td>\n",
              "      <td>1.000000</td>\n",
              "      <td>0.002778</td>\n",
              "      <td>1.000000</td>\n",
              "      <td>-0.016649</td>\n",
              "      <td>0.013422</td>\n",
              "      <td>-0.016652</td>\n",
              "      <td>0.000132</td>\n",
              "      <td>0.008393</td>\n",
              "      <td>0.000155</td>\n",
              "    </tr>\n",
              "    <tr>\n",
              "      <th>total_night_minutes</th>\n",
              "      <td>0.000668</td>\n",
              "      <td>0.005541</td>\n",
              "      <td>0.011799</td>\n",
              "      <td>0.002804</td>\n",
              "      <td>0.011801</td>\n",
              "      <td>-0.016639</td>\n",
              "      <td>0.001781</td>\n",
              "      <td>-0.016649</td>\n",
              "      <td>1.000000</td>\n",
              "      <td>0.026972</td>\n",
              "      <td>0.999999</td>\n",
              "      <td>-0.006721</td>\n",
              "      <td>-0.017214</td>\n",
              "      <td>-0.006655</td>\n",
              "    </tr>\n",
              "    <tr>\n",
              "      <th>total_night_calls</th>\n",
              "      <td>-0.007825</td>\n",
              "      <td>0.002676</td>\n",
              "      <td>0.004236</td>\n",
              "      <td>-0.008308</td>\n",
              "      <td>0.004235</td>\n",
              "      <td>0.013420</td>\n",
              "      <td>-0.013682</td>\n",
              "      <td>0.013422</td>\n",
              "      <td>0.026972</td>\n",
              "      <td>1.000000</td>\n",
              "      <td>0.026949</td>\n",
              "      <td>0.000391</td>\n",
              "      <td>-0.000156</td>\n",
              "      <td>0.000368</td>\n",
              "    </tr>\n",
              "    <tr>\n",
              "      <th>total_night_charge</th>\n",
              "      <td>0.000656</td>\n",
              "      <td>0.005535</td>\n",
              "      <td>0.011783</td>\n",
              "      <td>0.002802</td>\n",
              "      <td>0.011785</td>\n",
              "      <td>-0.016642</td>\n",
              "      <td>0.001799</td>\n",
              "      <td>-0.016652</td>\n",
              "      <td>0.999999</td>\n",
              "      <td>0.026949</td>\n",
              "      <td>1.000000</td>\n",
              "      <td>-0.006717</td>\n",
              "      <td>-0.017182</td>\n",
              "      <td>-0.006650</td>\n",
              "    </tr>\n",
              "    <tr>\n",
              "      <th>total_intl_minutes</th>\n",
              "      <td>0.001291</td>\n",
              "      <td>0.002463</td>\n",
              "      <td>-0.019486</td>\n",
              "      <td>0.013097</td>\n",
              "      <td>-0.019490</td>\n",
              "      <td>0.000137</td>\n",
              "      <td>-0.007458</td>\n",
              "      <td>0.000132</td>\n",
              "      <td>-0.006721</td>\n",
              "      <td>0.000391</td>\n",
              "      <td>-0.006717</td>\n",
              "      <td>1.000000</td>\n",
              "      <td>0.016791</td>\n",
              "      <td>0.999993</td>\n",
              "    </tr>\n",
              "    <tr>\n",
              "      <th>total_intl_calls</th>\n",
              "      <td>0.014277</td>\n",
              "      <td>0.000124</td>\n",
              "      <td>-0.001303</td>\n",
              "      <td>0.010893</td>\n",
              "      <td>-0.001307</td>\n",
              "      <td>0.008388</td>\n",
              "      <td>0.005574</td>\n",
              "      <td>0.008393</td>\n",
              "      <td>-0.017214</td>\n",
              "      <td>-0.000156</td>\n",
              "      <td>-0.017182</td>\n",
              "      <td>0.016791</td>\n",
              "      <td>1.000000</td>\n",
              "      <td>0.016900</td>\n",
              "    </tr>\n",
              "    <tr>\n",
              "      <th>total_intl_charge</th>\n",
              "      <td>0.001292</td>\n",
              "      <td>0.002505</td>\n",
              "      <td>-0.019415</td>\n",
              "      <td>0.013161</td>\n",
              "      <td>-0.019419</td>\n",
              "      <td>0.000159</td>\n",
              "      <td>-0.007507</td>\n",
              "      <td>0.000155</td>\n",
              "      <td>-0.006655</td>\n",
              "      <td>0.000368</td>\n",
              "      <td>-0.006650</td>\n",
              "      <td>0.999993</td>\n",
              "      <td>0.016900</td>\n",
              "      <td>1.000000</td>\n",
              "    </tr>\n",
              "  </tbody>\n",
              "</table>\n",
              "</div>"
            ],
            "text/plain": [
              "                       account_length  ...  total_intl_charge\n",
              "account_length               1.000000  ...           0.001292\n",
              "number_vmail_messages       -0.014575  ...           0.002505\n",
              "total_day_minutes           -0.001017  ...          -0.019415\n",
              "total_day_calls              0.028240  ...           0.013161\n",
              "total_day_charge            -0.001019  ...          -0.019419\n",
              "total_eve_minutes           -0.009591  ...           0.000159\n",
              "total_eve_calls              0.009143  ...          -0.007507\n",
              "total_eve_charge            -0.009587  ...           0.000155\n",
              "total_night_minutes          0.000668  ...          -0.006655\n",
              "total_night_calls           -0.007825  ...           0.000368\n",
              "total_night_charge           0.000656  ...          -0.006650\n",
              "total_intl_minutes           0.001291  ...           0.999993\n",
              "total_intl_calls             0.014277  ...           0.016900\n",
              "total_intl_charge            0.001292  ...           1.000000\n",
              "\n",
              "[14 rows x 14 columns]"
            ]
          },
          "metadata": {
            "tags": []
          },
          "execution_count": 11
        }
      ]
    },
    {
      "cell_type": "code",
      "metadata": {
        "id": "v5QwoWv-Mw3f",
        "colab_type": "code",
        "outputId": "5f2a0782-2b60-4dcf-b9ff-aae8b3cf6bab",
        "colab": {
          "base_uri": "https://localhost:8080/",
          "height": 403
        }
      },
      "source": [
        "# Show the heatmap of correlations\n",
        "sns.heatmap(corr)"
      ],
      "execution_count": 0,
      "outputs": [
        {
          "output_type": "execute_result",
          "data": {
            "text/plain": [
              "<matplotlib.axes._subplots.AxesSubplot at 0x7f05523abf98>"
            ]
          },
          "metadata": {
            "tags": []
          },
          "execution_count": 12
        },
        {
          "output_type": "display_data",
          "data": {
            "image/png": "[encoded data removed]",
            "text/plain": [
              "<Figure size 432x288 with 2 Axes>"
            ]
          },
          "metadata": {
            "tags": []
          }
        }
      ]
    },
    {
      "cell_type": "markdown",
      "metadata": {
        "id": "coN7ryWzfIn1",
        "colab_type": "text"
      },
      "source": [
        "From the correlation matrix we can see, the correlation between \"total_charge\" and \"total_minutes\" is 1. Hence, we can delete one of the them in each pair.\n"
      ]
    },
    {
      "cell_type": "code",
      "metadata": {
        "id": "-_3RwgSneJyY",
        "colab_type": "code",
        "colab": {}
      },
      "source": [
        "# Delete the high correlation variable: shot_distance, game_event_id,game_id\n",
        "churn = df.drop(['total_day_charge','total_eve_charge','total_night_charge','total_intl_charge'], axis = 1)\n"
      ],
      "execution_count": 0,
      "outputs": []
    },
    {
      "cell_type": "markdown",
      "metadata": {
        "id": "71iPKTwfcfwD",
        "colab_type": "text"
      },
      "source": [
        "# Part 2 : Feature Preprocessing"
      ]
    },
    {
      "cell_type": "code",
      "metadata": {
        "id": "lh21lZtBMw6H",
        "colab_type": "code",
        "colab": {}
      },
      "source": [
        "# Drop some useless columns\n",
        "churn = churn.drop(['state', 'area_code', 'phone_number'], axis = 1)"
      ],
      "execution_count": 0,
      "outputs": []
    },
    {
      "cell_type": "code",
      "metadata": {
        "id": "4IWsqqJgMw_F",
        "colab_type": "code",
        "colab": {}
      },
      "source": [
        "# Label Encoding for String\n",
        "from sklearn.preprocessing import LabelEncoder\n",
        "\n",
        "labelencoder = LabelEncoder()\n",
        "churn.intl_plan = labelencoder.fit_transform(churn.intl_plan)\n",
        "churn.voice_mail_plan = labelencoder.fit_transform(churn.voice_mail_plan)\n",
        "churn.churned = labelencoder.fit_transform(churn.churned)"
      ],
      "execution_count": 0,
      "outputs": []
    },
    {
      "cell_type": "code",
      "metadata": {
        "id": "9UmyIeAUMxBr",
        "colab_type": "code",
        "colab": {}
      },
      "source": [
        "# Get X and y\n",
        "X = churn.iloc[:, :-1].values\n",
        "y = churn.iloc[:, -1].values"
      ],
      "execution_count": 0,
      "outputs": []
    },
    {
      "cell_type": "code",
      "metadata": {
        "id": "MVUz5dqJJ9Mq",
        "colab_type": "code",
        "outputId": "b94dfe01-b126-4e47-848b-c9d56458bf23",
        "colab": {
          "base_uri": "https://localhost:8080/",
          "height": 34
        }
      },
      "source": [
        "# Check the proportion of y = 1\n",
        "print(y.sum()/y.shape)"
      ],
      "execution_count": 0,
      "outputs": [
        {
          "output_type": "stream",
          "text": [
            "[0.1414]\n"
          ],
          "name": "stdout"
        }
      ]
    },
    {
      "cell_type": "markdown",
      "metadata": {
        "id": "Mv4r4N-aImS-",
        "colab_type": "text"
      },
      "source": [
        "# Part 3 : Model Training -- Random Forest"
      ]
    },
    {
      "cell_type": "markdown",
      "metadata": {
        "id": "A5YojFHxKR5d",
        "colab_type": "text"
      },
      "source": [
        "## Part 3.1 : Split dataset"
      ]
    },
    {
      "cell_type": "code",
      "metadata": {
        "id": "30twLAiYMxEN",
        "colab_type": "code",
        "outputId": "4dcda49f-ceb5-4153-8b84-1d133a598cb7",
        "colab": {
          "base_uri": "https://localhost:8080/",
          "height": 51
        }
      },
      "source": [
        "# Split data into training and testing\n",
        "from sklearn import model_selection\n",
        "\n",
        "# Reserve 20% for testing\n",
        "X_train, X_test, y_train, y_test = model_selection.train_test_split(X, y, test_size = 0.2)\n",
        "\n",
        "print('Training data has %d observation with %d features' % X_train.shape)\n",
        "print('Test data has %d observation with %d features' % X_test.shape)"
      ],
      "execution_count": 0,
      "outputs": [
        {
          "output_type": "stream",
          "text": [
            "Training data has 4000 observation with 13 features\n",
            "Test data has 1000 observation with 13 features\n"
          ],
          "name": "stdout"
        }
      ]
    },
    {
      "cell_type": "code",
      "metadata": {
        "id": "CV8OWjCOLpax",
        "colab_type": "code",
        "outputId": "b8d01164-267a-4ad7-8633-d85384c1a4f3",
        "colab": {
          "base_uri": "https://localhost:8080/",
          "height": 34
        }
      },
      "source": [
        "# Scale the data, using standardization\n",
        "from sklearn.preprocessing import StandardScaler\n",
        "scaler = StandardScaler()\n",
        "X_train = scaler.fit_transform(X_train)\n",
        "X_test = scaler.transform(X_test)"
      ],
      "execution_count": 0,
      "outputs": [
        {
          "output_type": "execute_result",
          "data": {
            "text/plain": [
              "(4000, 13)"
            ]
          },
          "metadata": {
            "tags": []
          },
          "execution_count": 24
        }
      ]
    },
    {
      "cell_type": "markdown",
      "metadata": {
        "id": "XuoGxZp7NfBa",
        "colab_type": "text"
      },
      "source": [
        "## Part 3.2 : Model Training and Selection\n"
      ]
    },
    {
      "cell_type": "code",
      "metadata": {
        "id": "OEFFH8WGNo8u",
        "colab_type": "code",
        "colab": {}
      },
      "source": [
        "# build models\n",
        "from sklearn.ensemble import RandomForestClassifier\n",
        "classifier_RF = RandomForestClassifier()"
      ],
      "execution_count": 0,
      "outputs": []
    },
    {
      "cell_type": "code",
      "metadata": {
        "id": "7kZ5RR1ZNo-0",
        "colab_type": "code",
        "colab": {}
      },
      "source": [
        "# Train the model\n",
        "classifier_RF.fit(X_train, y_train)"
      ],
      "execution_count": 0,
      "outputs": []
    },
    {
      "cell_type": "code",
      "metadata": {
        "id": "_JHespNaNpA-",
        "colab_type": "code",
        "colab": {}
      },
      "source": [
        "# Prediction of test data\n",
        "classifier_RF.predict(X_test)"
      ],
      "execution_count": 0,
      "outputs": []
    },
    {
      "cell_type": "code",
      "metadata": {
        "id": "QAfDEd_ZNpC_",
        "colab_type": "code",
        "outputId": "70066f04-beb3-4d12-eb05-c00c5b545958",
        "colab": {
          "base_uri": "https://localhost:8080/",
          "height": 34
        }
      },
      "source": [
        "# Accuracy of test data\n",
        "classifier_RF.score(X_test, y_test)"
      ],
      "execution_count": 0,
      "outputs": [
        {
          "output_type": "execute_result",
          "data": {
            "text/plain": [
              "0.945"
            ]
          },
          "metadata": {
            "tags": []
          },
          "execution_count": 31
        }
      ]
    },
    {
      "cell_type": "code",
      "metadata": {
        "id": "k47CrMPAPBKb",
        "colab_type": "code",
        "outputId": "585314a2-d1c0-4ab6-ee21-db989a5ef88e",
        "colab": {
          "base_uri": "https://localhost:8080/",
          "height": 34
        }
      },
      "source": [
        "# Use 5-fold Cross Validation to get the accuracy of different models\n",
        "cv_score = model_selection.cross_val_score(classifier_RF, X_train, y_train, cv = 5)\n",
        "print('Model accuracy of Random Forest is :', cv_score.mean())"
      ],
      "execution_count": 0,
      "outputs": [
        {
          "output_type": "stream",
          "text": [
            "Model accuracy of Random Forest is : 0.9412527738324592\n"
          ],
          "name": "stdout"
        }
      ]
    },
    {
      "cell_type": "code",
      "metadata": {
        "id": "2UWu2FlLPBXN",
        "colab_type": "code",
        "colab": {}
      },
      "source": [
        ""
      ],
      "execution_count": 0,
      "outputs": []
    },
    {
      "cell_type": "markdown",
      "metadata": {
        "id": "cmAGHrt2QL_a",
        "colab_type": "text"
      },
      "source": [
        "## Part 3.3 Find Optimal Hyperparameters"
      ]
    },
    {
      "cell_type": "markdown",
      "metadata": {
        "id": "4Ijk73jaQwjY",
        "colab_type": "text"
      },
      "source": [
        "### 1. Import function and build helper function for print out results"
      ]
    },
    {
      "cell_type": "code",
      "metadata": {
        "id": "uzjqiA-gPBfz",
        "colab_type": "code",
        "outputId": "4e3256ad-d124-4dae-97b9-876a024397e4",
        "colab": {
          "base_uri": "https://localhost:8080/",
          "height": 122
        }
      },
      "source": [
        "from sklearn.model_selection import GridSearchCV\n",
        "from sklearn.model_selection import RandomizedSearchCV\n",
        "!pip install bayesian-optimization\n",
        "from bayes_opt import BayesianOptimization\n",
        "from sklearn.model_selection import cross_val_score\n",
        "import time"
      ],
      "execution_count": 0,
      "outputs": [
        {
          "output_type": "stream",
          "text": [
            "Requirement already satisfied: bayesian-optimization in /usr/local/lib/python3.6/dist-packages (1.0.1)\n",
            "Requirement already satisfied: scipy>=0.14.0 in /usr/local/lib/python3.6/dist-packages (from bayesian-optimization) (1.3.0)\n",
            "Requirement already satisfied: scikit-learn>=0.18.0 in /usr/local/lib/python3.6/dist-packages (from bayesian-optimization) (0.21.2)\n",
            "Requirement already satisfied: numpy>=1.9.0 in /usr/local/lib/python3.6/dist-packages (from bayesian-optimization) (1.16.4)\n",
            "Requirement already satisfied: joblib>=0.11 in /usr/local/lib/python3.6/dist-packages (from scikit-learn>=0.18.0->bayesian-optimization) (0.13.2)\n"
          ],
          "name": "stdout"
        }
      ]
    },
    {
      "cell_type": "code",
      "metadata": {
        "id": "DllZzeSGPBpl",
        "colab_type": "code",
        "colab": {}
      },
      "source": [
        "# Helper function for printing out results\n",
        "def print_search_metrics(OH):\n",
        "  print (\"Best score: %0.5f\" %OH.best_score_)\n",
        "  print (\"Best parameters set:\")\n",
        "  best_parameters = OH.best_params_\n",
        "  for param_name in sorted(parameters.keys()):\n",
        "    print (\"\\t%s : % r\" % (param_name, best_parameters[param_name]))"
      ],
      "execution_count": 0,
      "outputs": []
    },
    {
      "cell_type": "markdown",
      "metadata": {
        "id": "lsb9ii89V47Y",
        "colab_type": "text"
      },
      "source": [
        "### 2. Use Grid Search to Find Optimal Hyperparameters"
      ]
    },
    {
      "cell_type": "code",
      "metadata": {
        "id": "9X3nyrwaWHHy",
        "colab_type": "code",
        "outputId": "8577b5e1-d97e-42a7-b4a4-4f6dd937401b",
        "colab": {
          "base_uri": "https://localhost:8080/",
          "height": 34
        }
      },
      "source": [
        "# Possible hyperparameter options for Random Forest\n",
        "# Choose the number of trees\n",
        "parameters = {\n",
        "    'n_estimators' :[40, 60, 80]\n",
        "}\n",
        "\n",
        "# Use time function to measure time elapsed\n",
        "start = time.time()\n",
        "\n",
        "Grid_RF = GridSearchCV(RandomForestClassifier(), parameters, cv = 5)\n",
        "Grid_RF.fit(X_train, y_train)\n",
        "\n",
        "end = time.time()\n",
        "\n",
        "print (end - start)"
      ],
      "execution_count": 0,
      "outputs": [
        {
          "output_type": "stream",
          "text": [
            "5.764700889587402\n"
          ],
          "name": "stdout"
        }
      ]
    },
    {
      "cell_type": "code",
      "metadata": {
        "id": "Gc1qKSNVWHKL",
        "colab_type": "code",
        "outputId": "8d162868-12b8-4213-a74a-8badbdaaeb43",
        "colab": {
          "base_uri": "https://localhost:8080/",
          "height": 68
        }
      },
      "source": [
        "# print best parameters\n",
        "print_search_metrics(Grid_RF)"
      ],
      "execution_count": 0,
      "outputs": [
        {
          "output_type": "stream",
          "text": [
            "Best score: 0.95625\n",
            "Best parameters set:\n",
            "\tn_estimators : 80\n"
          ],
          "name": "stdout"
        }
      ]
    },
    {
      "cell_type": "code",
      "metadata": {
        "id": "6R3r0dQoWHNY",
        "colab_type": "code",
        "colab": {}
      },
      "source": [
        "# best random forest in Grid Search\n",
        "best_RF_grid = Grid_RF.best_estimator_"
      ],
      "execution_count": 0,
      "outputs": []
    },
    {
      "cell_type": "markdown",
      "metadata": {
        "id": "GJ5xtzMNZvdP",
        "colab_type": "text"
      },
      "source": [
        "### 3. Use Random Search to Find Optimal Hyperparameters"
      ]
    },
    {
      "cell_type": "code",
      "metadata": {
        "id": "WhjzAq9NZ1l8",
        "colab_type": "code",
        "outputId": "81b40858-1574-4ea1-b6ee-a86afa041c9e",
        "colab": {
          "base_uri": "https://localhost:8080/",
          "height": 88
        }
      },
      "source": [
        "# Possible hyperparamter options for Random Forest\n",
        "# Choose the number of trees\n",
        "parameters = {\n",
        "    'n_estimators' :[40, 60, 80]\n",
        "}\n",
        "\n",
        "# Use time function to measure time elapsed\n",
        "import time\n",
        "start = time.time()\n",
        "\n",
        "Random_RF = RandomizedSearchCV(RandomForestClassifier(), parameters, cv=5)\n",
        "Random_RF.fit(X_train, y_train)\n",
        "\n",
        "end = time.time()\n",
        "print(end - start)"
      ],
      "execution_count": 0,
      "outputs": [
        {
          "output_type": "stream",
          "text": [
            "/usr/local/lib/python3.6/dist-packages/sklearn/model_selection/_search.py:266: UserWarning: The total space of parameters 3 is smaller than n_iter=10. Running 3 iterations. For exhaustive searches, use GridSearchCV.\n",
            "  % (grid_size, self.n_iter, grid_size), UserWarning)\n"
          ],
          "name": "stderr"
        },
        {
          "output_type": "stream",
          "text": [
            "5.493784189224243\n"
          ],
          "name": "stdout"
        }
      ]
    },
    {
      "cell_type": "code",
      "metadata": {
        "id": "rSpaixNTZ1qZ",
        "colab_type": "code",
        "outputId": "7cba7d5e-7606-4e51-9292-e627859e60eb",
        "colab": {
          "base_uri": "https://localhost:8080/",
          "height": 68
        }
      },
      "source": [
        "# print best parameters\n",
        "print_search_metrics(Random_RF)"
      ],
      "execution_count": 0,
      "outputs": [
        {
          "output_type": "stream",
          "text": [
            "Best score: 0.95150\n",
            "Best parameters set:\n",
            "\tn_estimators : 40\n"
          ],
          "name": "stdout"
        }
      ]
    },
    {
      "cell_type": "code",
      "metadata": {
        "id": "VnEfKsN2Z1tw",
        "colab_type": "code",
        "colab": {}
      },
      "source": [
        "# best random forest in Random Search\n",
        "best_RF_random = Random_RF.best_estimator_"
      ],
      "execution_count": 0,
      "outputs": []
    },
    {
      "cell_type": "markdown",
      "metadata": {
        "id": "Puv9_ZQ9bJFq",
        "colab_type": "text"
      },
      "source": [
        "### 4. Use Bayesian Optimization to Find Optimal Hyperparameters\n"
      ]
    },
    {
      "cell_type": "code",
      "metadata": {
        "id": "Qqwi2FeXZ1ww",
        "colab_type": "code",
        "colab": {}
      },
      "source": [
        "def rf_cv(n_estimators):\n",
        "  val = cross_val_score(\n",
        "  RandomForestClassifier(n_estimators = int(n_estimators),\n",
        "                        random_state = 2),\n",
        "  X_train, y_train, scoring = 'accuracy', cv = 5).mean()\n",
        "  return val"
      ],
      "execution_count": 0,
      "outputs": []
    },
    {
      "cell_type": "code",
      "metadata": {
        "id": "6vAOyuqmZ1z2",
        "colab_type": "code",
        "colab": {}
      },
      "source": [
        "rf_bo = BayesianOptimization(\n",
        "        rf_cv,{'n_estimators':(40, 80)\n",
        "              }\n",
        ")"
      ],
      "execution_count": 0,
      "outputs": []
    },
    {
      "cell_type": "code",
      "metadata": {
        "id": "aIoEhFvkZ129",
        "colab_type": "code",
        "outputId": "a50a836b-3c22-4bb0-f145-4442b2e7a0e8",
        "colab": {
          "base_uri": "https://localhost:8080/",
          "height": 340
        }
      },
      "source": [
        "# Use time function to measure time elapsed\n",
        "start = time.time()\n",
        "\n",
        "num_iter = 10\n",
        "init_points = 5\n",
        "rf_bo.maximize(init_points = init_points, n_iter = num_iter)\n",
        "\n",
        "end = time.time()\n",
        "print(end - start)"
      ],
      "execution_count": 0,
      "outputs": [
        {
          "output_type": "stream",
          "text": [
            "|   iter    |  target   | n_esti... |\n",
            "-------------------------------------\n",
            "| \u001b[0m 1       \u001b[0m | \u001b[0m 0.9533  \u001b[0m | \u001b[0m 77.2    \u001b[0m |\n",
            "| \u001b[0m 2       \u001b[0m | \u001b[0m 0.9523  \u001b[0m | \u001b[0m 72.21   \u001b[0m |\n",
            "| \u001b[0m 3       \u001b[0m | \u001b[0m 0.9523  \u001b[0m | \u001b[0m 53.45   \u001b[0m |\n",
            "| \u001b[0m 4       \u001b[0m | \u001b[0m 0.9533  \u001b[0m | \u001b[0m 77.43   \u001b[0m |\n",
            "| \u001b[0m 5       \u001b[0m | \u001b[0m 0.9513  \u001b[0m | \u001b[0m 58.64   \u001b[0m |\n",
            "| \u001b[0m 6       \u001b[0m | \u001b[0m 0.9528  \u001b[0m | \u001b[0m 80.0    \u001b[0m |\n",
            "| \u001b[0m 7       \u001b[0m | \u001b[0m 0.9518  \u001b[0m | \u001b[0m 40.0    \u001b[0m |\n",
            "| \u001b[0m 8       \u001b[0m | \u001b[0m 0.9528  \u001b[0m | \u001b[0m 80.0    \u001b[0m |\n",
            "| \u001b[0m 9       \u001b[0m | \u001b[0m 0.9528  \u001b[0m | \u001b[0m 80.0    \u001b[0m |\n",
            "| \u001b[0m 10      \u001b[0m | \u001b[0m 0.9528  \u001b[0m | \u001b[0m 80.0    \u001b[0m |\n",
            "| \u001b[0m 11      \u001b[0m | \u001b[0m 0.9528  \u001b[0m | \u001b[0m 80.0    \u001b[0m |\n",
            "| \u001b[0m 12      \u001b[0m | \u001b[0m 0.9528  \u001b[0m | \u001b[0m 79.98   \u001b[0m |\n",
            "| \u001b[0m 13      \u001b[0m | \u001b[0m 0.9528  \u001b[0m | \u001b[0m 80.0    \u001b[0m |\n",
            "| \u001b[0m 14      \u001b[0m | \u001b[0m 0.9518  \u001b[0m | \u001b[0m 40.0    \u001b[0m |\n",
            "| \u001b[0m 15      \u001b[0m | \u001b[0m 0.9528  \u001b[0m | \u001b[0m 79.97   \u001b[0m |\n",
            "=====================================\n",
            "66.59902811050415\n"
          ],
          "name": "stdout"
        }
      ]
    },
    {
      "cell_type": "code",
      "metadata": {
        "id": "X-kUmGl4Z15r",
        "colab_type": "code",
        "outputId": "1143bae0-c5ea-4650-d301-5e9223d946bb",
        "colab": {
          "base_uri": "https://localhost:8080/",
          "height": 54
        }
      },
      "source": [
        "rf_bo.max"
      ],
      "execution_count": 0,
      "outputs": [
        {
          "output_type": "execute_result",
          "data": {
            "text/plain": [
              "{'params': {'n_estimators': 77.2006464694684}, 'target': 0.9532540339906781}"
            ]
          },
          "metadata": {
            "tags": []
          },
          "execution_count": 57
        }
      ]
    },
    {
      "cell_type": "markdown",
      "metadata": {
        "id": "WDB8gm8EfqSS",
        "colab_type": "text"
      },
      "source": [
        "# Part 4 Model Training -- LGBM"
      ]
    },
    {
      "cell_type": "markdown",
      "metadata": {
        "id": "GGhNDE9GgMWm",
        "colab_type": "text"
      },
      "source": [
        "## Part 4.1 Model Training and Selection"
      ]
    },
    {
      "cell_type": "code",
      "metadata": {
        "id": "OYaaTe2ihTKT",
        "colab_type": "code",
        "colab": {}
      },
      "source": [
        "# build models\n",
        "from lightgbm import LGBMClassifier\n",
        "classifier_lgbm = LGBMClassifier()"
      ],
      "execution_count": 0,
      "outputs": []
    },
    {
      "cell_type": "code",
      "metadata": {
        "id": "LYD89nU5hoRH",
        "colab_type": "code",
        "colab": {}
      },
      "source": [
        "# Train the model\n",
        "classifier_lgbm.fit(X_train, y_train)"
      ],
      "execution_count": 0,
      "outputs": []
    },
    {
      "cell_type": "code",
      "metadata": {
        "id": "gzl-hsNPhoTb",
        "colab_type": "code",
        "colab": {}
      },
      "source": [
        "# Prediction of test data\n",
        "classifier_lgbm.predict(X_test)"
      ],
      "execution_count": 0,
      "outputs": []
    },
    {
      "cell_type": "code",
      "metadata": {
        "id": "cHsl-0ZHhoWC",
        "colab_type": "code",
        "outputId": "c1edcfa5-7a3d-49ff-cefa-bf9be4858169",
        "colab": {
          "base_uri": "https://localhost:8080/",
          "height": 34
        }
      },
      "source": [
        "# Accuracy of test data\n",
        "classifier_lgbm.score(X_test, y_test)"
      ],
      "execution_count": 0,
      "outputs": [
        {
          "output_type": "execute_result",
          "data": {
            "text/plain": [
              "0.963"
            ]
          },
          "metadata": {
            "tags": []
          },
          "execution_count": 61
        }
      ]
    },
    {
      "cell_type": "code",
      "metadata": {
        "id": "xA9yT2NDhtu1",
        "colab_type": "code",
        "outputId": "b773caad-489d-4aa1-ee8a-155103c1afe8",
        "colab": {
          "base_uri": "https://localhost:8080/",
          "height": 34
        }
      },
      "source": [
        "# Use 5-fold Cross Validation to get the accuracy of different models\n",
        "cv_score = model_selection.cross_val_score(classifier_lgbm, X_train, y_train, cv = 5)\n",
        "print('Model accuracy of Random Forest is :', cv_score.mean())"
      ],
      "execution_count": 0,
      "outputs": [
        {
          "output_type": "stream",
          "text": [
            "Model accuracy of Random Forest is : 0.9610040355531805\n"
          ],
          "name": "stdout"
        }
      ]
    },
    {
      "cell_type": "markdown",
      "metadata": {
        "id": "qbhTi8GZgNGR",
        "colab_type": "text"
      },
      "source": [
        "## Part 4.2 Find Optimal Hyperparameters"
      ]
    },
    {
      "cell_type": "markdown",
      "metadata": {
        "id": "rtu7KFYwgNSQ",
        "colab_type": "text"
      },
      "source": [
        "### 1. Use Grid Search to Find Optimal Hyperparameters"
      ]
    },
    {
      "cell_type": "code",
      "metadata": {
        "id": "n3GZzQQGlO1x",
        "colab_type": "code",
        "colab": {
          "base_uri": "https://localhost:8080/",
          "height": 34
        },
        "outputId": "6c5301d5-c32e-4c16-bb94-4128dabdfa52"
      },
      "source": [
        "# Possible hyperparamter options for LigntGBM\n",
        "# Choose the number of trees\n",
        "parameters = {\n",
        "    'n_estimators' : [60, 80, 100, 200, 300],\n",
        "    'learning_rate' : [0.03, 0.05, 0.08, 0.1, 0.2],\n",
        "    'num_leaves' : [20, 30, 50],\n",
        "    'max_depth': [10, 20, 30]\n",
        "}\n",
        "\n",
        "# Use time function to measure time elapsed\n",
        "import time\n",
        "start = time.time()\n",
        "\n",
        "Grid_LGBM = GridSearchCV(LGBMClassifier(),parameters, cv=5)\n",
        "Grid_LGBM.fit(X_train, y_train)\n",
        "\n",
        "\n",
        "end = time.time()\n",
        "print(end - start)"
      ],
      "execution_count": 71,
      "outputs": [
        {
          "output_type": "stream",
          "text": [
            "276.37526202201843\n"
          ],
          "name": "stdout"
        }
      ]
    },
    {
      "cell_type": "code",
      "metadata": {
        "id": "pMpKDBQnlO5a",
        "colab_type": "code",
        "colab": {
          "base_uri": "https://localhost:8080/",
          "height": 119
        },
        "outputId": "ad8c3beb-af65-407a-c7ee-82201c699100"
      },
      "source": [
        "# best number of tress\n",
        "print_search_metrics(Grid_LGBM)"
      ],
      "execution_count": 72,
      "outputs": [
        {
          "output_type": "stream",
          "text": [
            "Best score: 0.96200\n",
            "Best parameters set:\n",
            "\tlearning_rate : 0.2\n",
            "\tmax_depth : 20\n",
            "\tn_estimators : 80\n",
            "\tnum_leaves : 50\n"
          ],
          "name": "stdout"
        }
      ]
    },
    {
      "cell_type": "code",
      "metadata": {
        "id": "YS9cMeNOlO-d",
        "colab_type": "code",
        "colab": {}
      },
      "source": [
        "# best random forest in Random Search\n",
        "best_LGBM_Grid = Grid_LGBM.best_estimator_"
      ],
      "execution_count": 0,
      "outputs": []
    },
    {
      "cell_type": "markdown",
      "metadata": {
        "id": "AD4Y-Agmg8DQ",
        "colab_type": "text"
      },
      "source": [
        "### 2. Use Random Search to Find Optimal Hyperparameters"
      ]
    },
    {
      "cell_type": "code",
      "metadata": {
        "id": "sgA-c0L4OEw6",
        "colab_type": "code",
        "colab": {
          "base_uri": "https://localhost:8080/",
          "height": 34
        },
        "outputId": "8134e2a5-5a4f-45c8-d4c1-d1da4fb03814"
      },
      "source": [
        "# Possible hyperparamter options for LightGBM\n",
        "# Choose the number of trees\n",
        "parameters = {\n",
        "    'n_estimators' : [60, 80, 100, 200, 300],\n",
        "    'learning_rate' : [0.03, 0.05, 0.08, 0.1, 0.2],\n",
        "    'num_leaves' : [20, 30, 50],\n",
        "    'max_depth': [10, 20, 30]\n",
        "}\n",
        "\n",
        "# Use time function to measure time elapsed\n",
        "import time\n",
        "start = time.time()\n",
        "\n",
        "Random_LGBM = RandomizedSearchCV(LGBMClassifier(),parameters, cv=5)\n",
        "Random_LGBM.fit(X_train, y_train)\n",
        "\n",
        "end = time.time()\n",
        "print(end - start)"
      ],
      "execution_count": 67,
      "outputs": [
        {
          "output_type": "stream",
          "text": [
            "10.515396356582642\n"
          ],
          "name": "stdout"
        }
      ]
    },
    {
      "cell_type": "code",
      "metadata": {
        "id": "Nf46zbz_OE2-",
        "colab_type": "code",
        "colab": {
          "base_uri": "https://localhost:8080/",
          "height": 119
        },
        "outputId": "b2d569a2-6482-480c-9ecc-3dfb4b436236"
      },
      "source": [
        "# best number of tress\n",
        "print_search_metrics(Random_LGBM)"
      ],
      "execution_count": 68,
      "outputs": [
        {
          "output_type": "stream",
          "text": [
            "Best score: 0.96000\n",
            "Best parameters set:\n",
            "\tlearning_rate : 0.08\n",
            "\tmax_depth : 30\n",
            "\tn_estimators : 200\n",
            "\tnum_leaves : 20\n"
          ],
          "name": "stdout"
        }
      ]
    },
    {
      "cell_type": "code",
      "metadata": {
        "id": "e8iHRXBNOE-6",
        "colab_type": "code",
        "colab": {}
      },
      "source": [
        "# best random forest in Random Search\n",
        "best_LGBM_random = Random_LGBM.best_estimator_"
      ],
      "execution_count": 0,
      "outputs": []
    },
    {
      "cell_type": "markdown",
      "metadata": {
        "id": "5HeITTxfg8HU",
        "colab_type": "text"
      },
      "source": [
        "### 3. Use Bayesian Optimization to Find Optimal Hyperparameters\n"
      ]
    },
    {
      "cell_type": "code",
      "metadata": {
        "id": "KKQYZYmqf0TC",
        "colab_type": "code",
        "colab": {}
      },
      "source": [
        "def LGBM_cv(n_estimators, learning_rate, num_leaves, max_depth):\n",
        "  val = cross_val_score(\n",
        "      LGBMClassifier(n_estimators = int(n_estimators),\n",
        "                     learning_rate = learning_rate,\n",
        "                     num_leaves = int(num_leaves),\n",
        "                     max_depth = int(max_depth),\n",
        "                     random_state = 2\n",
        "                    ),\n",
        "      X_train, y_train, scoring= 'accuracy', cv=5\n",
        "  ).mean()\n",
        "  return val"
      ],
      "execution_count": 0,
      "outputs": []
    },
    {
      "cell_type": "code",
      "metadata": {
        "id": "qndd4Gyrf0Vr",
        "colab_type": "code",
        "colab": {}
      },
      "source": [
        "LGBM_bo = BayesianOptimization(\n",
        "    LGBM_cv,\n",
        "    {'n_estimators': (60, 300),\n",
        "     'learning_rate' : (0.01, 0.2),\n",
        "     'num_leaves': (5, 50),\n",
        "     'max_depth': (2, 30)}\n",
        ")"
      ],
      "execution_count": 0,
      "outputs": []
    },
    {
      "cell_type": "code",
      "metadata": {
        "id": "fk19zk0Rf0Yk",
        "colab_type": "code",
        "colab": {
          "base_uri": "https://localhost:8080/",
          "height": 360
        },
        "outputId": "86f8d95e-1dae-49a4-e19f-5087ecb41c62"
      },
      "source": [
        "# Use time function to measure time elapsed\n",
        "import time\n",
        "start = time.time()\n",
        "\n",
        "num_iter = 10\n",
        "init_points = 5\n",
        "LGBM_bo.maximize(init_points=init_points,n_iter=num_iter)\n",
        "\n",
        "end = time.time()\n",
        "print(end - start)"
      ],
      "execution_count": 77,
      "outputs": [
        {
          "output_type": "stream",
          "text": [
            "|   iter    |  target   | learni... | max_depth | n_esti... | num_le... |\n",
            "-------------------------------------------------------------------------\n",
            "| \u001b[0m 1       \u001b[0m | \u001b[0m 0.957   \u001b[0m | \u001b[0m 0.139   \u001b[0m | \u001b[0m 18.35   \u001b[0m | \u001b[0m 214.0   \u001b[0m | \u001b[0m 8.682   \u001b[0m |\n",
            "| \u001b[95m 2       \u001b[0m | \u001b[95m 0.961   \u001b[0m | \u001b[95m 0.1923  \u001b[0m | \u001b[95m 22.81   \u001b[0m | \u001b[95m 271.8   \u001b[0m | \u001b[95m 32.75   \u001b[0m |\n",
            "| \u001b[0m 3       \u001b[0m | \u001b[0m 0.9578  \u001b[0m | \u001b[0m 0.06598 \u001b[0m | \u001b[0m 22.77   \u001b[0m | \u001b[0m 255.4   \u001b[0m | \u001b[0m 13.71   \u001b[0m |\n",
            "| \u001b[0m 4       \u001b[0m | \u001b[0m 0.9563  \u001b[0m | \u001b[0m 0.05037 \u001b[0m | \u001b[0m 7.31    \u001b[0m | \u001b[0m 272.0   \u001b[0m | \u001b[0m 11.29   \u001b[0m |\n",
            "| \u001b[0m 5       \u001b[0m | \u001b[0m 0.9595  \u001b[0m | \u001b[0m 0.1085  \u001b[0m | \u001b[0m 9.247   \u001b[0m | \u001b[0m 228.0   \u001b[0m | \u001b[0m 22.97   \u001b[0m |\n",
            "| \u001b[0m 6       \u001b[0m | \u001b[0m 0.9593  \u001b[0m | \u001b[0m 0.06276 \u001b[0m | \u001b[0m 27.98   \u001b[0m | \u001b[0m 60.6    \u001b[0m | \u001b[0m 49.88   \u001b[0m |\n",
            "| \u001b[0m 7       \u001b[0m | \u001b[0m 0.959   \u001b[0m | \u001b[0m 0.1746  \u001b[0m | \u001b[0m 29.46   \u001b[0m | \u001b[0m 297.3   \u001b[0m | \u001b[0m 49.55   \u001b[0m |\n",
            "| \u001b[0m 8       \u001b[0m | \u001b[0m 0.9535  \u001b[0m | \u001b[0m 0.1351  \u001b[0m | \u001b[0m 3.196   \u001b[0m | \u001b[0m 62.07   \u001b[0m | \u001b[0m 49.89   \u001b[0m |\n",
            "| \u001b[0m 9       \u001b[0m | \u001b[0m 0.9605  \u001b[0m | \u001b[0m 0.03    \u001b[0m | \u001b[0m 29.95   \u001b[0m | \u001b[0m 298.2   \u001b[0m | \u001b[0m 49.79   \u001b[0m |\n",
            "| \u001b[0m 10      \u001b[0m | \u001b[0m 0.9595  \u001b[0m | \u001b[0m 0.1749  \u001b[0m | \u001b[0m 29.37   \u001b[0m | \u001b[0m 298.6   \u001b[0m | \u001b[0m 49.13   \u001b[0m |\n",
            "| \u001b[0m 11      \u001b[0m | \u001b[0m 0.957   \u001b[0m | \u001b[0m 0.1264  \u001b[0m | \u001b[0m 29.92   \u001b[0m | \u001b[0m 298.0   \u001b[0m | \u001b[0m 5.127   \u001b[0m |\n",
            "| \u001b[0m 12      \u001b[0m | \u001b[0m 0.9603  \u001b[0m | \u001b[0m 0.05365 \u001b[0m | \u001b[0m 29.8    \u001b[0m | \u001b[0m 294.5   \u001b[0m | \u001b[0m 49.72   \u001b[0m |\n",
            "| \u001b[0m 13      \u001b[0m | \u001b[0m 0.9588  \u001b[0m | \u001b[0m 0.1195  \u001b[0m | \u001b[0m 29.59   \u001b[0m | \u001b[0m 295.8   \u001b[0m | \u001b[0m 49.4    \u001b[0m |\n",
            "| \u001b[0m 14      \u001b[0m | \u001b[0m 0.9598  \u001b[0m | \u001b[0m 0.09234 \u001b[0m | \u001b[0m 29.51   \u001b[0m | \u001b[0m 296.5   \u001b[0m | \u001b[0m 49.91   \u001b[0m |\n",
            "| \u001b[0m 15      \u001b[0m | \u001b[0m 0.9603  \u001b[0m | \u001b[0m 0.1298  \u001b[0m | \u001b[0m 29.27   \u001b[0m | \u001b[0m 298.8   \u001b[0m | \u001b[0m 49.19   \u001b[0m |\n",
            "=========================================================================\n",
            "116.77008318901062\n"
          ],
          "name": "stdout"
        }
      ]
    },
    {
      "cell_type": "code",
      "metadata": {
        "id": "3W4EH0IIYuW-",
        "colab_type": "code",
        "colab": {
          "base_uri": "https://localhost:8080/",
          "height": 102
        },
        "outputId": "aa5ac3e3-9a50-451a-b038-4f86900edca1"
      },
      "source": [
        "LGBM_bo.max"
      ],
      "execution_count": 78,
      "outputs": [
        {
          "output_type": "execute_result",
          "data": {
            "text/plain": [
              "{'params': {'learning_rate': 0.19228024885263575,\n",
              "  'max_depth': 22.812435932270553,\n",
              "  'n_estimators': 271.8142013848679,\n",
              "  'num_leaves': 32.74717117619143},\n",
              " 'target': 0.9610027847699761}"
            ]
          },
          "metadata": {
            "tags": []
          },
          "execution_count": 78
        }
      ]
    },
    {
      "cell_type": "markdown",
      "metadata": {
        "id": "HT2zukD5f6k0",
        "colab_type": "text"
      },
      "source": [
        "# Part 5 Model Training -- Catboost"
      ]
    },
    {
      "cell_type": "code",
      "metadata": {
        "id": "ExMbK4kTf0aK",
        "colab_type": "code",
        "colab": {}
      },
      "source": [
        ""
      ],
      "execution_count": 0,
      "outputs": []
    },
    {
      "cell_type": "code",
      "metadata": {
        "id": "awywEmfzf0cW",
        "colab_type": "code",
        "colab": {}
      },
      "source": [
        ""
      ],
      "execution_count": 0,
      "outputs": []
    },
    {
      "cell_type": "code",
      "metadata": {
        "id": "VuOEKNmcf0en",
        "colab_type": "code",
        "colab": {}
      },
      "source": [
        ""
      ],
      "execution_count": 0,
      "outputs": []
    },
    {
      "cell_type": "code",
      "metadata": {
        "id": "RWfqp2sQf0g6",
        "colab_type": "code",
        "colab": {}
      },
      "source": [
        ""
      ],
      "execution_count": 0,
      "outputs": []
    },
    {
      "cell_type": "markdown",
      "metadata": {
        "id": "oRj6UaaTgDdx",
        "colab_type": "text"
      },
      "source": [
        "# Part 6 Model Training -- GBDT"
      ]
    },
    {
      "cell_type": "code",
      "metadata": {
        "id": "M4GTMC36gIRT",
        "colab_type": "code",
        "colab": {}
      },
      "source": [
        ""
      ],
      "execution_count": 0,
      "outputs": []
    },
    {
      "cell_type": "code",
      "metadata": {
        "id": "zkUhmqJwgIT8",
        "colab_type": "code",
        "colab": {}
      },
      "source": [
        ""
      ],
      "execution_count": 0,
      "outputs": []
    },
    {
      "cell_type": "code",
      "metadata": {
        "id": "DY75LKFWgIWT",
        "colab_type": "code",
        "colab": {}
      },
      "source": [
        ""
      ],
      "execution_count": 0,
      "outputs": []
    }
  ]
}